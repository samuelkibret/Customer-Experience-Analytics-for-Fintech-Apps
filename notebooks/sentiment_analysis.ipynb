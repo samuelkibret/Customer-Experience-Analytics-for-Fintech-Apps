{
 "cells": [
  {
   "cell_type": "markdown",
   "id": "8104877c",
   "metadata": {},
   "source": [
    "# Importing and Loading Data"
   ]
  },
  {
   "cell_type": "code",
   "execution_count": 24,
   "id": "150062dc",
   "metadata": {},
   "outputs": [],
   "source": [
    "import pandas as pd\n",
    "from transformers import pipeline\n",
    "\n",
    "df = pd.read_csv(\"../data/processed/bank_reviews_cleaned.csv\")"
   ]
  },
  {
   "cell_type": "markdown",
   "id": "a56ae7ee",
   "metadata": {},
   "source": [
    "# Conducting Sentiment Analysis and Saving It to The Datafram"
   ]
  },
  {
   "cell_type": "code",
   "execution_count": 25,
   "id": "c7e6cb40",
   "metadata": {},
   "outputs": [
    {
     "name": "stderr",
     "output_type": "stream",
     "text": [
      "Device set to use cpu\n"
     ]
    }
   ],
   "source": [
    "sentiment_pipeline = pipeline(\"sentiment-analysis\", model=\"distilbert-base-uncased-finetuned-sst-2-english\")\n",
    "sentiment_results = sentiment_pipeline(df[\"review\"].tolist(),truncation=True)\n",
    "\n",
    "df[\"label\"]  = [result[\"label\"] for result in sentiment_results]\n",
    "df[\"score\"]  = [result[\"score\"] for result in sentiment_results]\n"
   ]
  },
  {
   "cell_type": "markdown",
   "id": "3e11be1b",
   "metadata": {},
   "source": [
    "# Aggregate Sentiment Analysis Results "
   ]
  },
  {
   "cell_type": "code",
   "execution_count": null,
   "id": "99f11da5",
   "metadata": {},
   "outputs": [
    {
     "ename": "NameError",
     "evalue": "name 'df' is not defined",
     "output_type": "error",
     "traceback": [
      "\u001b[31m---------------------------------------------------------------------------\u001b[39m",
      "\u001b[31mNameError\u001b[39m                                 Traceback (most recent call last)",
      "\u001b[36mCell\u001b[39m\u001b[36m \u001b[39m\u001b[32mIn[1]\u001b[39m\u001b[32m, line 5\u001b[39m\n\u001b[32m      1\u001b[39m \u001b[38;5;66;03m# df.reset_index(drop=True, inplace=True)\u001b[39;00m\n\u001b[32m      2\u001b[39m \u001b[38;5;66;03m# print(df.head())\u001b[39;00m\n\u001b[32m      3\u001b[39m \u001b[38;5;66;03m# df_aggregated = df.groupby([\"bank\",\"rating\"])[\"score\"].mean().reset_index()\u001b[39;00m\n\u001b[32m      4\u001b[39m \u001b[38;5;66;03m# df_aggregated.head()\u001b[39;00m\n\u001b[32m----> \u001b[39m\u001b[32m5\u001b[39m \u001b[43mdf\u001b[49m.head()\n",
      "\u001b[31mNameError\u001b[39m: name 'df' is not defined"
     ]
    }
   ],
   "source": [
    "df.reset_index(drop=True, inplace=True)\n",
    "df_aggregated = df.groupby([\"bank\",\"rating\"])[\"score\"].mean().reset_index()\n",
    "df_aggregated.head()\n"
   ]
  },
  {
   "cell_type": "markdown",
   "id": "042b425e",
   "metadata": {},
   "source": [
    "# Exporting to CSV"
   ]
  },
  {
   "cell_type": "code",
   "execution_count": 31,
   "id": "9d15cc9b",
   "metadata": {},
   "outputs": [
    {
     "name": "stdout",
     "output_type": "stream",
     "text": [
      "Sentiment analysis completed and results saved.\n"
     ]
    }
   ],
   "source": [
    "df.to_csv(\"../data/processed/bank_reviews_sentiment.csv\", index=False)\n",
    "df_aggregated.to_csv(\"../data/processed/bank_reviews_sentiment_aggregated.csv\", index=False)\n",
    "print(\"Sentiment analysis completed and results saved.\")\n"
   ]
  },
  {
   "cell_type": "code",
   "execution_count": 32,
   "id": "eface180",
   "metadata": {},
   "outputs": [
    {
     "data": {
      "text/html": [
       "<div>\n",
       "<style scoped>\n",
       "    .dataframe tbody tr th:only-of-type {\n",
       "        vertical-align: middle;\n",
       "    }\n",
       "\n",
       "    .dataframe tbody tr th {\n",
       "        vertical-align: top;\n",
       "    }\n",
       "\n",
       "    .dataframe thead th {\n",
       "        text-align: right;\n",
       "    }\n",
       "</style>\n",
       "<table border=\"1\" class=\"dataframe\">\n",
       "  <thead>\n",
       "    <tr style=\"text-align: right;\">\n",
       "      <th></th>\n",
       "      <th>review</th>\n",
       "      <th>rating</th>\n",
       "      <th>date</th>\n",
       "      <th>bank</th>\n",
       "      <th>source</th>\n",
       "      <th>label</th>\n",
       "      <th>score</th>\n",
       "    </tr>\n",
       "  </thead>\n",
       "  <tbody>\n",
       "    <tr>\n",
       "      <th>1343</th>\n",
       "      <td>Best</td>\n",
       "      <td>5</td>\n",
       "      <td>2025-01-13</td>\n",
       "      <td>Dashen</td>\n",
       "      <td>Google Play</td>\n",
       "      <td>POSITIVE</td>\n",
       "      <td>0.999794</td>\n",
       "    </tr>\n",
       "    <tr>\n",
       "      <th>1344</th>\n",
       "      <td>Waw Great and innovated,user friendly, always ...</td>\n",
       "      <td>5</td>\n",
       "      <td>2025-01-13</td>\n",
       "      <td>Dashen</td>\n",
       "      <td>Google Play</td>\n",
       "      <td>POSITIVE</td>\n",
       "      <td>0.999779</td>\n",
       "    </tr>\n",
       "    <tr>\n",
       "      <th>1345</th>\n",
       "      <td>It's Best waww 🙏</td>\n",
       "      <td>5</td>\n",
       "      <td>2025-01-13</td>\n",
       "      <td>Dashen</td>\n",
       "      <td>Google Play</td>\n",
       "      <td>POSITIVE</td>\n",
       "      <td>0.999744</td>\n",
       "    </tr>\n",
       "    <tr>\n",
       "      <th>1346</th>\n",
       "      <td>Always one step ahead</td>\n",
       "      <td>5</td>\n",
       "      <td>2025-01-13</td>\n",
       "      <td>Dashen</td>\n",
       "      <td>Google Play</td>\n",
       "      <td>POSITIVE</td>\n",
       "      <td>0.999770</td>\n",
       "    </tr>\n",
       "    <tr>\n",
       "      <th>1347</th>\n",
       "      <td>Like Me, I Hope It Works Better Than Before.</td>\n",
       "      <td>5</td>\n",
       "      <td>2025-01-11</td>\n",
       "      <td>Dashen</td>\n",
       "      <td>Google Play</td>\n",
       "      <td>POSITIVE</td>\n",
       "      <td>0.998722</td>\n",
       "    </tr>\n",
       "  </tbody>\n",
       "</table>\n",
       "</div>"
      ],
      "text/plain": [
       "                                                 review  rating        date  \\\n",
       "1343                                               Best       5  2025-01-13   \n",
       "1344  Waw Great and innovated,user friendly, always ...       5  2025-01-13   \n",
       "1345                                   It's Best waww 🙏       5  2025-01-13   \n",
       "1346                              Always one step ahead       5  2025-01-13   \n",
       "1347       Like Me, I Hope It Works Better Than Before.       5  2025-01-11   \n",
       "\n",
       "        bank       source     label     score  \n",
       "1343  Dashen  Google Play  POSITIVE  0.999794  \n",
       "1344  Dashen  Google Play  POSITIVE  0.999779  \n",
       "1345  Dashen  Google Play  POSITIVE  0.999744  \n",
       "1346  Dashen  Google Play  POSITIVE  0.999770  \n",
       "1347  Dashen  Google Play  POSITIVE  0.998722  "
      ]
     },
     "execution_count": 32,
     "metadata": {},
     "output_type": "execute_result"
    }
   ],
   "source": [
    "df.tail()"
   ]
  }
 ],
 "metadata": {
  "kernelspec": {
   "display_name": "env2",
   "language": "python",
   "name": "python3"
  },
  "language_info": {
   "codemirror_mode": {
    "name": "ipython",
    "version": 3
   },
   "file_extension": ".py",
   "mimetype": "text/x-python",
   "name": "python",
   "nbconvert_exporter": "python",
   "pygments_lexer": "ipython3",
   "version": "3.13.3"
  }
 },
 "nbformat": 4,
 "nbformat_minor": 5
}
