{
 "cells": [
  {
   "cell_type": "code",
   "execution_count": 6,
   "id": "7dd45f6f",
   "metadata": {},
   "outputs": [],
   "source": [
    "import sqlite3\n",
    "import pandas as pd\n",
    "\n",
    "# Connect to SQLite (this will create bank_reviews.db if it doesn't exist)\n",
    "conn = sqlite3.connect(\"../data/bank_reviews.db\")\n",
    "cursor = conn.cursor()\n",
    "df = pd.read_csv(\"../data/processed/bank_reviews_with_themes.csv\")\n",
    "\n",
    "\n",
    "# Create Banks Table\n",
    "cursor.execute(\"\"\"\n",
    "CREATE TABLE IF NOT EXISTS banks (\n",
    "    id INTEGER PRIMARY KEY AUTOINCREMENT,\n",
    "    name TEXT UNIQUE\n",
    ");\n",
    "\"\"\")\n",
    "\n",
    "# Create Reviews Table\n",
    "cursor.execute(\"\"\"\n",
    "CREATE TABLE IF NOT EXISTS reviews (\n",
    "    id INTEGER PRIMARY KEY AUTOINCREMENT,\n",
    "    review TEXT,\n",
    "    rating INTEGER,\n",
    "    date TEXT,\n",
    "    bank_id INTEGER,\n",
    "    source TEXT,\n",
    "    label TEXT,\n",
    "    score REAL,\n",
    "    keywords TEXT,\n",
    "    themes TEXT,\n",
    "    FOREIGN KEY(bank_id) REFERENCES banks(id)\n",
    ");\n",
    "\"\"\")\n",
    "\n",
    "conn.commit()\n"
   ]
  },
  {
   "cell_type": "code",
   "execution_count": 7,
   "id": "95429a85",
   "metadata": {},
   "outputs": [],
   "source": [
    "# Example of your df.head():\n",
    "# review, rating, date, bank, source, label, score, keywords, identified_themes\n",
    "\n",
    "# Insert unique banks into banks table\n",
    "bank_names = df[\"bank\"].unique()\n",
    "for name in bank_names:\n",
    "    cursor.execute(\"INSERT OR IGNORE INTO banks (name) VALUES (?)\", (name,))\n",
    "conn.commit()\n",
    "\n",
    "# Prepare and insert into reviews\n",
    "for _, row in df.iterrows():\n",
    "    cursor.execute(\"SELECT id FROM banks WHERE name = ?\", (row[\"bank\"],))\n",
    "    bank_id = cursor.fetchone()[0]\n",
    "\n",
    "    cursor.execute(\"\"\"\n",
    "    INSERT INTO reviews (\n",
    "        review, rating, date, bank_id, source, label, score, keywords, themes\n",
    "    ) VALUES (?, ?, ?, ?, ?, ?, ?, ?, ?)\n",
    "    \"\"\", (\n",
    "        row[\"review\"], row[\"rating\"], row[\"date\"], bank_id, row[\"source\"], row[\"label\"],\n",
    "        row[\"score\"], \",\".join(row[\"keywords\"]), \",\".join(row[\"identified_themes\"])\n",
    "    ))\n",
    "conn.commit()\n"
   ]
  },
  {
   "cell_type": "code",
   "execution_count": null,
   "id": "a2a86536",
   "metadata": {},
   "outputs": [],
   "source": [
    "# Count entries\n",
    "cursor.execute(\"SELECT COUNT(*) FROM reviews\")\n",
    "print(\"Number of reviews inserted:\", cursor.fetchone()[0])\n"
   ]
  }
 ],
 "metadata": {
  "kernelspec": {
   "display_name": "env2",
   "language": "python",
   "name": "python3"
  },
  "language_info": {
   "codemirror_mode": {
    "name": "ipython",
    "version": 3
   },
   "file_extension": ".py",
   "mimetype": "text/x-python",
   "name": "python",
   "nbconvert_exporter": "python",
   "pygments_lexer": "ipython3",
   "version": "3.13.3"
  }
 },
 "nbformat": 4,
 "nbformat_minor": 5
}
