{
 "cells": [
  {
   "cell_type": "markdown",
   "id": "8104877c",
   "metadata": {},
   "source": [
    "# Importing and Loading Data"
   ]
  },
  {
   "cell_type": "code",
   "execution_count": 1,
   "id": "150062dc",
   "metadata": {},
   "outputs": [
    {
     "name": "stderr",
     "output_type": "stream",
     "text": [
      "c:\\Users\\skibret\\Downloads\\KAIM\\Week 2\\Project\\Customer Experience Analytics for Fintech Apps\\env2\\Lib\\site-packages\\tqdm\\auto.py:21: TqdmWarning: IProgress not found. Please update jupyter and ipywidgets. See https://ipywidgets.readthedocs.io/en/stable/user_install.html\n",
      "  from .autonotebook import tqdm as notebook_tqdm\n"
     ]
    }
   ],
   "source": [
    "import pandas as pd\n",
    "from transformers import pipeline\n",
    "\n",
    "df = pd.read_csv(\"../data/processed/bank_reviews_cleaned.csv\")"
   ]
  },
  {
   "cell_type": "markdown",
   "id": "a56ae7ee",
   "metadata": {},
   "source": [
    "# Conducting Sentiment Analysis and Saving It to The Datafram"
   ]
  },
  {
   "cell_type": "code",
   "execution_count": null,
   "id": "c7e6cb40",
   "metadata": {},
   "outputs": [
    {
     "name": "stderr",
     "output_type": "stream",
     "text": [
      "Xet Storage is enabled for this repo, but the 'hf_xet' package is not installed. Falling back to regular HTTP download. For better performance, install the package with: `pip install huggingface_hub[hf_xet]` or `pip install hf_xet`\n",
      "c:\\Users\\skibret\\Downloads\\KAIM\\Week 2\\Project\\Customer Experience Analytics for Fintech Apps\\env2\\Lib\\site-packages\\huggingface_hub\\file_download.py:143: UserWarning: `huggingface_hub` cache-system uses symlinks by default to efficiently store duplicated files but your machine does not support them in C:\\Users\\skibret\\.cache\\huggingface\\hub\\models--distilbert-base-uncased-finetuned-sst-2-english. Caching files will still work but in a degraded version that might require more space on your disk. This warning can be disabled by setting the `HF_HUB_DISABLE_SYMLINKS_WARNING` environment variable. For more details, see https://huggingface.co/docs/huggingface_hub/how-to-cache#limitations.\n",
      "To support symlinks on Windows, you either need to activate Developer Mode or to run Python as an administrator. In order to activate developer mode, see this article: https://docs.microsoft.com/en-us/windows/apps/get-started/enable-your-device-for-development\n",
      "  warnings.warn(message)\n",
      "Device set to use cpu\n"
     ]
    }
   ],
   "source": [
    "sentiment_pipeline = pipeline(\"sentiment-analysis\", model=\"distilbert-base-uncased-finetuned-sst-2-english\")\n",
    "sentiment_results = sentiment_pipeline(df[\"review\"].tolist(),truncation=True)\n",
    "\n",
    "df[\"label\"]  = [result[\"label\"] for result in sentiment_results]\n",
    "df[\"score\"]  = [result[\"score\"] for result in sentiment_results]\n"
   ]
  },
  {
   "cell_type": "markdown",
   "id": "3e11be1b",
   "metadata": {},
   "source": [
    "# Aggregate Sentiment Analysis Results "
   ]
  },
  {
   "cell_type": "code",
   "execution_count": 12,
   "id": "99f11da5",
   "metadata": {},
   "outputs": [
    {
     "data": {
      "text/html": [
       "<div>\n",
       "<style scoped>\n",
       "    .dataframe tbody tr th:only-of-type {\n",
       "        vertical-align: middle;\n",
       "    }\n",
       "\n",
       "    .dataframe tbody tr th {\n",
       "        vertical-align: top;\n",
       "    }\n",
       "\n",
       "    .dataframe thead th {\n",
       "        text-align: right;\n",
       "    }\n",
       "</style>\n",
       "<table border=\"1\" class=\"dataframe\">\n",
       "  <thead>\n",
       "    <tr style=\"text-align: right;\">\n",
       "      <th></th>\n",
       "      <th>bank</th>\n",
       "      <th>rating</th>\n",
       "      <th>score</th>\n",
       "    </tr>\n",
       "  </thead>\n",
       "  <tbody>\n",
       "    <tr>\n",
       "      <th>0</th>\n",
       "      <td>BOA</td>\n",
       "      <td>1</td>\n",
       "      <td>0.976203</td>\n",
       "    </tr>\n",
       "    <tr>\n",
       "      <th>1</th>\n",
       "      <td>BOA</td>\n",
       "      <td>2</td>\n",
       "      <td>0.945489</td>\n",
       "    </tr>\n",
       "    <tr>\n",
       "      <th>2</th>\n",
       "      <td>BOA</td>\n",
       "      <td>3</td>\n",
       "      <td>0.954937</td>\n",
       "    </tr>\n",
       "    <tr>\n",
       "      <th>3</th>\n",
       "      <td>BOA</td>\n",
       "      <td>4</td>\n",
       "      <td>0.958368</td>\n",
       "    </tr>\n",
       "    <tr>\n",
       "      <th>4</th>\n",
       "      <td>BOA</td>\n",
       "      <td>5</td>\n",
       "      <td>0.956166</td>\n",
       "    </tr>\n",
       "  </tbody>\n",
       "</table>\n",
       "</div>"
      ],
      "text/plain": [
       "  bank  rating     score\n",
       "0  BOA       1  0.976203\n",
       "1  BOA       2  0.945489\n",
       "2  BOA       3  0.954937\n",
       "3  BOA       4  0.958368\n",
       "4  BOA       5  0.956166"
      ]
     },
     "execution_count": 12,
     "metadata": {},
     "output_type": "execute_result"
    }
   ],
   "source": [
    "df_aggregated = df.groupby([\"bank\",\"rating\"])[\"score\"].mean().reset_index()\n",
    "df_aggregated.head()"
   ]
  },
  {
   "cell_type": "markdown",
   "id": "042b425e",
   "metadata": {},
   "source": [
    "# Exporting to CSV"
   ]
  },
  {
   "cell_type": "code",
   "execution_count": null,
   "id": "9d15cc9b",
   "metadata": {},
   "outputs": [],
   "source": [
    "df.to_csv(\"../data/processed/bank_reviews_sentiment.csv\", index=False)\n",
    "df_aggregated.to_csv(\"../data/processed/bank_reviews_sentiment_aggregated.csv\", index=False)\n",
    "print(\"Sentiment analysis completed and results saved.\")"
   ]
  }
 ],
 "metadata": {
  "kernelspec": {
   "display_name": "env2",
   "language": "python",
   "name": "python3"
  },
  "language_info": {
   "codemirror_mode": {
    "name": "ipython",
    "version": 3
   },
   "file_extension": ".py",
   "mimetype": "text/x-python",
   "name": "python",
   "nbconvert_exporter": "python",
   "pygments_lexer": "ipython3",
   "version": "3.13.3"
  }
 },
 "nbformat": 4,
 "nbformat_minor": 5
}
