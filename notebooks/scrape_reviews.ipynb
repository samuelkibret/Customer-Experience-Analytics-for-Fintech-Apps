{
 "cells": [
  {
   "cell_type": "markdown",
   "id": "0f357258",
   "metadata": {},
   "source": [
    "# Scraping the google playstore"
   ]
  },
  {
   "cell_type": "code",
   "execution_count": 2,
   "id": "2a262413",
   "metadata": {},
   "outputs": [
    {
     "name": "stdout",
     "output_type": "stream",
     "text": [
      "Scraping reviews for CBE...\n",
      "Scraping reviews for BOA...\n",
      "Scraping reviews for Dashen...\n",
      "✅ Scraping complete. Saved to bank_reviews_raw.csv\n"
     ]
    }
   ],
   "source": [
    "from google_play_scraper import reviews, Sort\n",
    "import pandas as pd\n",
    "\n",
    "# App IDs with labels\n",
    "apps = {\n",
    "    \"CBE\": \"com.combanketh.mobilebanking\",\n",
    "    \"BOA\": \"com.boa.boaMobileBanking\",\n",
    "    \"Dashen\": \"com.dashen.dashensuperapp\"\n",
    "}\n",
    "\n",
    "all_reviews = []\n",
    "\n",
    "for bank_name, app_id in apps.items():\n",
    "    print(f\"Scraping reviews for {bank_name}...\")\n",
    "\n",
    "    app_reviews, _ = reviews(\n",
    "        app_id,\n",
    "        lang='en',\n",
    "        country='et',\n",
    "        count=450,\n",
    "        sort=Sort.NEWEST\n",
    "    )\n",
    "\n",
    "    for r in app_reviews:\n",
    "        all_reviews.append({\n",
    "            \"review\": r.get(\"content\"),\n",
    "            \"rating\": r.get(\"score\"),\n",
    "            \"date\": r.get(\"at\"),\n",
    "            \"bank\": bank_name,\n",
    "            \"source\": \"Google Play\"\n",
    "        })\n",
    "\n",
    "# Save raw scraped data to CSV\n",
    "df = pd.DataFrame(all_reviews)\n",
    "df.to_csv(\"../data/raw/bank_reviews_raw.csv\", index=False)\n",
    "\n",
    "print(\"✅ Scraping complete. Saved to bank_reviews_raw.csv\")\n"
   ]
  }
 ],
 "metadata": {
  "kernelspec": {
   "display_name": "env2",
   "language": "python",
   "name": "python3"
  },
  "language_info": {
   "codemirror_mode": {
    "name": "ipython",
    "version": 3
   },
   "file_extension": ".py",
   "mimetype": "text/x-python",
   "name": "python",
   "nbconvert_exporter": "python",
   "pygments_lexer": "ipython3",
   "version": "3.13.3"
  }
 },
 "nbformat": 4,
 "nbformat_minor": 5
}
