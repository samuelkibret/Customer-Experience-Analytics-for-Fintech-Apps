{
 "cells": [
  {
   "cell_type": "markdown",
   "id": "8104877c",
   "metadata": {},
   "source": [
    "# Importing and Loading Data"
   ]
  },
  {
   "cell_type": "code",
   "execution_count": 24,
   "id": "150062dc",
   "metadata": {},
   "outputs": [],
   "source": [
    "import pandas as pd\n",
    "from transformers import pipeline\n",
    "\n",
    "df = pd.read_csv(\"../data/processed/bank_reviews_cleaned.csv\")"
   ]
  },
  {
   "cell_type": "markdown",
   "id": "a56ae7ee",
   "metadata": {},
   "source": [
    "# Conducting Sentiment Analysis and Saving It to The Datafram"
   ]
  },
  {
   "cell_type": "code",
   "execution_count": 25,
   "id": "c7e6cb40",
   "metadata": {},
   "outputs": [
    {
     "name": "stderr",
     "output_type": "stream",
     "text": [
      "Device set to use cpu\n"
     ]
    }
   ],
   "source": [
    "sentiment_pipeline = pipeline(\"sentiment-analysis\", model=\"distilbert-base-uncased-finetuned-sst-2-english\")\n",
    "sentiment_results = sentiment_pipeline(df[\"review\"].tolist(),truncation=True)\n",
    "\n",
    "df[\"label\"]  = [result[\"label\"] for result in sentiment_results]\n",
    "df[\"score\"]  = [result[\"score\"] for result in sentiment_results]\n"
   ]
  },
  {
   "cell_type": "markdown",
   "id": "3e11be1b",
   "metadata": {},
   "source": [
    "# Aggregate Sentiment Analysis Results "
   ]
  },
  {
   "cell_type": "code",
   "execution_count": 30,
   "id": "99f11da5",
   "metadata": {},
   "outputs": [
    {
     "name": "stdout",
     "output_type": "stream",
     "text": [
      "                                              review  rating        date bank  \\\n",
      "0  \"Why don’t your ATMs support account-to-accoun...       4  2025-06-06  CBE   \n",
      "1                        what is this app problem???       1  2025-06-05  CBE   \n",
      "2       the app is proactive and a good connections.       5  2025-06-05  CBE   \n",
      "3    I cannot send to cbebirr app. through this app.       3  2025-06-05  CBE   \n",
      "4                                               good       4  2025-06-05  CBE   \n",
      "\n",
      "        source     label     score  \n",
      "0  Google Play  NEGATIVE  0.996465  \n",
      "1  Google Play  NEGATIVE  0.999623  \n",
      "2  Google Play  POSITIVE  0.999868  \n",
      "3  Google Play  NEGATIVE  0.995335  \n",
      "4  Google Play  POSITIVE  0.999816  \n"
     ]
    },
    {
     "data": {
      "text/html": [
       "<div>\n",
       "<style scoped>\n",
       "    .dataframe tbody tr th:only-of-type {\n",
       "        vertical-align: middle;\n",
       "    }\n",
       "\n",
       "    .dataframe tbody tr th {\n",
       "        vertical-align: top;\n",
       "    }\n",
       "\n",
       "    .dataframe thead th {\n",
       "        text-align: right;\n",
       "    }\n",
       "</style>\n",
       "<table border=\"1\" class=\"dataframe\">\n",
       "  <thead>\n",
       "    <tr style=\"text-align: right;\">\n",
       "      <th></th>\n",
       "      <th>bank</th>\n",
       "      <th>rating</th>\n",
       "      <th>score</th>\n",
       "    </tr>\n",
       "  </thead>\n",
       "  <tbody>\n",
       "    <tr>\n",
       "      <th>0</th>\n",
       "      <td>BOA</td>\n",
       "      <td>1</td>\n",
       "      <td>0.976203</td>\n",
       "    </tr>\n",
       "    <tr>\n",
       "      <th>1</th>\n",
       "      <td>BOA</td>\n",
       "      <td>2</td>\n",
       "      <td>0.945489</td>\n",
       "    </tr>\n",
       "    <tr>\n",
       "      <th>2</th>\n",
       "      <td>BOA</td>\n",
       "      <td>3</td>\n",
       "      <td>0.954937</td>\n",
       "    </tr>\n",
       "    <tr>\n",
       "      <th>3</th>\n",
       "      <td>BOA</td>\n",
       "      <td>4</td>\n",
       "      <td>0.958368</td>\n",
       "    </tr>\n",
       "    <tr>\n",
       "      <th>4</th>\n",
       "      <td>BOA</td>\n",
       "      <td>5</td>\n",
       "      <td>0.956166</td>\n",
       "    </tr>\n",
       "  </tbody>\n",
       "</table>\n",
       "</div>"
      ],
      "text/plain": [
       "  bank  rating     score\n",
       "0  BOA       1  0.976203\n",
       "1  BOA       2  0.945489\n",
       "2  BOA       3  0.954937\n",
       "3  BOA       4  0.958368\n",
       "4  BOA       5  0.956166"
      ]
     },
     "execution_count": 30,
     "metadata": {},
     "output_type": "execute_result"
    }
   ],
   "source": [
    "df.reset_index(drop=True, inplace=True)\n",
    "print(df.head())\n",
    "df_aggregated = df.groupby([\"bank\",\"rating\"])[\"score\"].mean().reset_index()\n",
    "df_aggregated.head()\n"
   ]
  },
  {
   "cell_type": "markdown",
   "id": "042b425e",
   "metadata": {},
   "source": [
    "# Exporting to CSV"
   ]
  },
  {
   "cell_type": "code",
   "execution_count": 31,
   "id": "9d15cc9b",
   "metadata": {},
   "outputs": [
    {
     "name": "stdout",
     "output_type": "stream",
     "text": [
      "Sentiment analysis completed and results saved.\n"
     ]
    }
   ],
   "source": [
    "df.to_csv(\"../data/processed/bank_reviews_sentiment.csv\", index=False)\n",
    "df_aggregated.to_csv(\"../data/processed/bank_reviews_sentiment_aggregated.csv\", index=False)\n",
    "print(\"Sentiment analysis completed and results saved.\")\n"
   ]
  },
  {
   "cell_type": "code",
   "execution_count": 32,
   "id": "eface180",
   "metadata": {},
   "outputs": [
    {
     "data": {
      "text/html": [
       "<div>\n",
       "<style scoped>\n",
       "    .dataframe tbody tr th:only-of-type {\n",
       "        vertical-align: middle;\n",
       "    }\n",
       "\n",
       "    .dataframe tbody tr th {\n",
       "        vertical-align: top;\n",
       "    }\n",
       "\n",
       "    .dataframe thead th {\n",
       "        text-align: right;\n",
       "    }\n",
       "</style>\n",
       "<table border=\"1\" class=\"dataframe\">\n",
       "  <thead>\n",
       "    <tr style=\"text-align: right;\">\n",
       "      <th></th>\n",
       "      <th>review</th>\n",
       "      <th>rating</th>\n",
       "      <th>date</th>\n",
       "      <th>bank</th>\n",
       "      <th>source</th>\n",
       "      <th>label</th>\n",
       "      <th>score</th>\n",
       "    </tr>\n",
       "  </thead>\n",
       "  <tbody>\n",
       "    <tr>\n",
       "      <th>1343</th>\n",
       "      <td>Best</td>\n",
       "      <td>5</td>\n",
       "      <td>2025-01-13</td>\n",
       "      <td>Dashen</td>\n",
       "      <td>Google Play</td>\n",
       "      <td>POSITIVE</td>\n",
       "      <td>0.999794</td>\n",
       "    </tr>\n",
       "    <tr>\n",
       "      <th>1344</th>\n",
       "      <td>Waw Great and innovated,user friendly, always ...</td>\n",
       "      <td>5</td>\n",
       "      <td>2025-01-13</td>\n",
       "      <td>Dashen</td>\n",
       "      <td>Google Play</td>\n",
       "      <td>POSITIVE</td>\n",
       "      <td>0.999779</td>\n",
       "    </tr>\n",
       "    <tr>\n",
       "      <th>1345</th>\n",
       "      <td>It's Best waww 🙏</td>\n",
       "      <td>5</td>\n",
       "      <td>2025-01-13</td>\n",
       "      <td>Dashen</td>\n",
       "      <td>Google Play</td>\n",
       "      <td>POSITIVE</td>\n",
       "      <td>0.999744</td>\n",
       "    </tr>\n",
       "    <tr>\n",
       "      <th>1346</th>\n",
       "      <td>Always one step ahead</td>\n",
       "      <td>5</td>\n",
       "      <td>2025-01-13</td>\n",
       "      <td>Dashen</td>\n",
       "      <td>Google Play</td>\n",
       "      <td>POSITIVE</td>\n",
       "      <td>0.999770</td>\n",
       "    </tr>\n",
       "    <tr>\n",
       "      <th>1347</th>\n",
       "      <td>Like Me, I Hope It Works Better Than Before.</td>\n",
       "      <td>5</td>\n",
       "      <td>2025-01-11</td>\n",
       "      <td>Dashen</td>\n",
       "      <td>Google Play</td>\n",
       "      <td>POSITIVE</td>\n",
       "      <td>0.998722</td>\n",
       "    </tr>\n",
       "  </tbody>\n",
       "</table>\n",
       "</div>"
      ],
      "text/plain": [
       "                                                 review  rating        date  \\\n",
       "1343                                               Best       5  2025-01-13   \n",
       "1344  Waw Great and innovated,user friendly, always ...       5  2025-01-13   \n",
       "1345                                   It's Best waww 🙏       5  2025-01-13   \n",
       "1346                              Always one step ahead       5  2025-01-13   \n",
       "1347       Like Me, I Hope It Works Better Than Before.       5  2025-01-11   \n",
       "\n",
       "        bank       source     label     score  \n",
       "1343  Dashen  Google Play  POSITIVE  0.999794  \n",
       "1344  Dashen  Google Play  POSITIVE  0.999779  \n",
       "1345  Dashen  Google Play  POSITIVE  0.999744  \n",
       "1346  Dashen  Google Play  POSITIVE  0.999770  \n",
       "1347  Dashen  Google Play  POSITIVE  0.998722  "
      ]
     },
     "execution_count": 32,
     "metadata": {},
     "output_type": "execute_result"
    }
   ],
   "source": [
    "df.tail()"
   ]
  }
 ],
 "metadata": {
  "kernelspec": {
   "display_name": "env2",
   "language": "python",
   "name": "python3"
  },
  "language_info": {
   "codemirror_mode": {
    "name": "ipython",
    "version": 3
   },
   "file_extension": ".py",
   "mimetype": "text/x-python",
   "name": "python",
   "nbconvert_exporter": "python",
   "pygments_lexer": "ipython3",
   "version": "3.13.3"
  }
 },
 "nbformat": 4,
 "nbformat_minor": 5
}
